{
  "nbformat": 4,
  "nbformat_minor": 0,
  "metadata": {
    "colab": {
      "name": "Linear_Algebra_58051_Laboratory3_Lacambra_JalenRhey.ipynb",
      "provenance": [],
      "authorship_tag": "ABX9TyMLFDgIg2k+JnBGgEwzfn7C",
      "include_colab_link": true
    },
    "kernelspec": {
      "name": "python3",
      "display_name": "Python 3"
    }
  },
  "cells": [
    {
      "cell_type": "markdown",
      "metadata": {
        "id": "view-in-github",
        "colab_type": "text"
      },
      "source": [
        "<a href=\"https://colab.research.google.com/github/Jalen18/Laboratory-3-Linear-Algebra/blob/main/Linear_Algebra_58051_Laboratory3_Lacambra_JalenRhey.ipynb\" target=\"_parent\"><img src=\"https://colab.research.google.com/assets/colab-badge.svg\" alt=\"Open In Colab\"/></a>"
      ]
    },
    {
      "cell_type": "markdown",
      "metadata": {
        "id": "UrF1ty0mZuu1"
      },
      "source": [
        "###ACTIVITY TASK 1\r\n"
      ]
    },
    {
      "cell_type": "markdown",
      "metadata": {
        "id": "7grgPy-uLQRl"
      },
      "source": [
        "\r\n",
        "The general linear equation form \r\n",
        "$$ A = 4\\hat{x} + 3\\hat{y} \\\\ B = 7\\hat{x} + 4\\hat{y}$$.\r\n",
        "\r\n",
        "The vector form \r\n",
        "$$ S = \\begin{Bmatrix}scalar_1\\cdot\\begin{bmatrix}  4 \\\\ 3\\\\\\end{bmatrix}, scalar_2\\cdot \\begin{bmatrix} 7 \\\\ 4\\\\\\end{bmatrix}\\end {Bmatrix} $$\r\n"
      ]
    },
    {
      "cell_type": "code",
      "metadata": {
        "colab": {
          "base_uri": "https://localhost:8080/",
          "height": 265
        },
        "id": "ESx4L51fKWdt",
        "outputId": "78eb5002-5282-464e-9ad6-ce7cb52c7aba"
      },
      "source": [
        "import numpy as np\r\n",
        "import matplotlib.pyplot as plt\r\n",
        "\r\n",
        "vectorA = np.array([4,3])\r\n",
        "vectorB = np.array([7,4])\r\n",
        "\r\n",
        "scalar = np.arange(-5,5,.5)\r\n",
        "\r\n",
        "scalar1, scalar2 = np.meshgrid(scalar,scalar)\r\n",
        "spanRx = scalar1 * vectorA[0] + scalar2 * vectorB[0]\r\n",
        "spanRy = scalar1 * vectorB[1] + scalar2 * vectorB[1]\r\n",
        "plt.scatter(spanRx, spanRy, s=5, alpha=0.75, color=\"blue\")\r\n",
        "\r\n",
        "plt.xlim(-50,50)\r\n",
        "plt.ylim(-50,50)\r\n",
        "plt.axhline(y=0, color='k')\r\n",
        "plt.axvline(x=0, color='k')\r\n",
        "plt.grid()\r\n",
        "plt.show()"
      ],
      "execution_count": null,
      "outputs": [
        {
          "output_type": "display_data",
          "data": {
            "image/png": "[encoded data removed]",
            "text/plain": [
              "<Figure size 432x288 with 1 Axes>"
            ]
          },
          "metadata": {
            "tags": [],
            "needs_background": "light"
          }
        }
      ]
    },
    {
      "cell_type": "markdown",
      "metadata": {
        "id": "ju99IX-8Z4Nk"
      },
      "source": [
        "###ACTIVITY TASK 2"
      ]
    },
    {
      "cell_type": "markdown",
      "metadata": {
        "id": "g_a7GumFaBAj"
      },
      "source": [
        "The general linear equation form\r\n",
        "$$ A = 3\\hat{x} + 4\\hat{y} \\\\ B = 4\\hat{x} - 4\\hat{y}$$.\r\n",
        "\r\n",
        "The vector form \r\n",
        "$$ scalarA = \\begin{bmatrix} 3 \\\\ 4\\end{bmatrix} , scalarB = \\begin{bmatrix} 4 \\\\ - 4\\end{bmatrix}\\\\ $$\r\n",
        "$$ scalarC = \\begin{bmatrix} 3 \\\\ 4\\end{bmatrix} , scalarD = \\begin{bmatrix} 4 \\\\ - 4\\end{bmatrix}\\\\ $$\r\n",
        "$$ scalarE = \\begin{bmatrix} 3 \\\\ 4\\end{bmatrix} , scalarF = \\begin{bmatrix} 4 \\\\ - 4\\end{bmatrix}\\\\ $$\r\n"
      ]
    },
    {
      "cell_type": "code",
      "metadata": {
        "colab": {
          "base_uri": "https://localhost:8080/",
          "height": 269
        },
        "id": "9b2f29R4LR5k",
        "outputId": "4b3a704b-12c1-49eb-98ef-c9141e602a39"
      },
      "source": [
        "import numpy as np\r\n",
        "import matplotlib.pyplot as plt\r\n",
        "\r\n",
        "vectorA = np.array([3,4])\r\n",
        "vectorB = np.array([4,-4])\r\n",
        "\r\n",
        "scalar1 = np.arange(-1,1,.1)\r\n",
        "scalar2 = np.arange(-5,5,.5)\r\n",
        "scalar3 = np.arange(-10,10,.5)\r\n",
        "\r\n",
        "scalarA, scalarB = np.meshgrid(scalar1,scalar1)\r\n",
        "scalarC, scalarD = np.meshgrid(scalar2,scalar2)\r\n",
        "scalarE, scalarF = np.meshgrid(scalar3,scalar3)\r\n",
        "\r\n",
        "spanRxA = scalarE * vectorA[0] + scalarF * vectorB[0]\r\n",
        "spanRyA = scalarE * vectorB[1] + scalarF * vectorB[1]\r\n",
        "spanRxB = scalarC * vectorA[0] + scalarD * vectorB[0]\r\n",
        "spanRyB = scalarC * vectorB[1] + scalarD * vectorB[1]\r\n",
        "spanRxC = scalarA * vectorA[0] + scalarB * vectorB[0]\r\n",
        "spanRyC = scalarA * vectorA[1] + scalarB * vectorB[1]\r\n",
        "\r\n",
        "plt.scatter(spanRxA, spanRyA, s=5, alpha=0.75, color=\"red\")\r\n",
        "plt.scatter(spanRxB, spanRyB, s=5, alpha=0.75, color=\"yellow\")\r\n",
        "plt.scatter(spanRxC, spanRyC, s=5, alpha=0.75, color=\"black\")\r\n",
        "\r\n",
        "plt.xlim(-100,100)\r\n",
        "plt.ylim(-100,100)\r\n",
        "plt.axhline(y=0, color='k')\r\n",
        "plt.axvline(x=0, color='k')\r\n",
        "plt.grid()\r\n",
        "plt.show()"
      ],
      "execution_count": null,
      "outputs": [
        {
          "output_type": "display_data",
          "data": {
            "image/png": "[encoded data removed]",
            "text/plain": [
              "<Figure size 432x288 with 1 Axes>"
            ]
          },
          "metadata": {
            "tags": [],
            "needs_background": "light"
          }
        }
      ]
    }
  ]
}